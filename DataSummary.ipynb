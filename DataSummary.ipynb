{
 "cells": [
  {
   "cell_type": "code",
   "execution_count": 1,
   "metadata": {
    "collapsed": true
   },
   "outputs": [],
   "source": [
    "import sys\n",
    "from csv import reader\n",
    "from operator import add\n",
    "import numpy as np\n",
    "import re"
   ]
  },
  {
   "cell_type": "code",
   "execution_count": 2,
   "metadata": {
    "collapsed": false
   },
   "outputs": [
    {
     "data": {
      "text/plain": [
       "5101232"
      ]
     },
     "execution_count": 2,
     "metadata": {},
     "output_type": "execute_result"
    }
   ],
   "source": [
    "crimefile = sc.textFile(\"/Users/guozhiqi-seven/Google Drive/NYU Master/Big Data/project/NYPD_Complaint_Data_Historic.csv\")\n",
    "crimefile.count() "
   ]
  },
  {
   "cell_type": "markdown",
   "metadata": {},
   "source": [
    "* There are totally 5101232 recorded crime complaints in the dataset."
   ]
  },
  {
   "cell_type": "code",
   "execution_count": 3,
   "metadata": {
    "collapsed": false
   },
   "outputs": [
    {
     "data": {
      "text/plain": [
       "['CMPLNT_NUM,CMPLNT_FR_DT,CMPLNT_FR_TM,CMPLNT_TO_DT,CMPLNT_TO_TM,RPT_DT,KY_CD,OFNS_DESC,PD_CD,PD_DESC,CRM_ATPT_CPTD_CD,LAW_CAT_CD,JURIS_DESC,BORO_NM,ADDR_PCT_CD,LOC_OF_OCCUR_DESC,PREM_TYP_DESC,PARKS_NM,HADEVELOPT,X_COORD_CD,Y_COORD_CD,Latitude,Longitude,Lat_Lon',\n",
       " '101109527,12/31/2015,23:45:00,,,12/31/2015,113,FORGERY,729,\"FORGERY,ETC.,UNCLASSIFIED-FELO\",COMPLETED,FELONY,N.Y. POLICE DEPT,BRONX,44,INSIDE,BAR/NIGHT CLUB,,,1007314,241257,40.828848333,-73.916661142,\"(40.828848333, -73.916661142)\"']"
      ]
     },
     "execution_count": 3,
     "metadata": {},
     "output_type": "execute_result"
    }
   ],
   "source": [
    "crimefile.take(2)"
   ]
  },
  {
   "cell_type": "code",
   "execution_count": 4,
   "metadata": {
    "collapsed": false
   },
   "outputs": [
    {
     "name": "stderr",
     "output_type": "stream",
     "text": [
      "//anaconda/lib/python3.5/site-packages/IPython/core/interactiveshell.py:2723: DtypeWarning: Columns (17) have mixed types. Specify dtype option on import or set low_memory=False.\n",
      "  interactivity=interactivity, compiler=compiler, result=result)\n"
     ]
    }
   ],
   "source": [
    "from pyspark.sql import SQLContext\n",
    "import pandas as pd\n",
    "#sc = SparkContext('local','example')  # if using locally\n",
    "sql_sc = SQLContext(sc)\n",
    "\n",
    "pandas_df = pd.read_csv(\"/Users/guozhiqi-seven/Google Drive/NYU Master/Big Data/project/NYPD_Complaint_Data_Historic.csv\")"
   ]
  },
  {
   "cell_type": "code",
   "execution_count": 5,
   "metadata": {
    "collapsed": false
   },
   "outputs": [
    {
     "data": {
      "text/html": [
       "<div>\n",
       "<table border=\"1\" class=\"dataframe\">\n",
       "  <thead>\n",
       "    <tr style=\"text-align: right;\">\n",
       "      <th></th>\n",
       "      <th>CMPLNT_NUM</th>\n",
       "      <th>CMPLNT_FR_DT</th>\n",
       "      <th>CMPLNT_FR_TM</th>\n",
       "      <th>CMPLNT_TO_DT</th>\n",
       "      <th>CMPLNT_TO_TM</th>\n",
       "      <th>RPT_DT</th>\n",
       "      <th>KY_CD</th>\n",
       "      <th>OFNS_DESC</th>\n",
       "      <th>PD_CD</th>\n",
       "      <th>PD_DESC</th>\n",
       "      <th>...</th>\n",
       "      <th>ADDR_PCT_CD</th>\n",
       "      <th>LOC_OF_OCCUR_DESC</th>\n",
       "      <th>PREM_TYP_DESC</th>\n",
       "      <th>PARKS_NM</th>\n",
       "      <th>HADEVELOPT</th>\n",
       "      <th>X_COORD_CD</th>\n",
       "      <th>Y_COORD_CD</th>\n",
       "      <th>Latitude</th>\n",
       "      <th>Longitude</th>\n",
       "      <th>Lat_Lon</th>\n",
       "    </tr>\n",
       "  </thead>\n",
       "  <tbody>\n",
       "    <tr>\n",
       "      <th>0</th>\n",
       "      <td>101109527</td>\n",
       "      <td>12/31/2015</td>\n",
       "      <td>23:45:00</td>\n",
       "      <td>NaN</td>\n",
       "      <td>NaN</td>\n",
       "      <td>12/31/2015</td>\n",
       "      <td>113</td>\n",
       "      <td>FORGERY</td>\n",
       "      <td>729.0</td>\n",
       "      <td>FORGERY,ETC.,UNCLASSIFIED-FELO</td>\n",
       "      <td>...</td>\n",
       "      <td>44.0</td>\n",
       "      <td>INSIDE</td>\n",
       "      <td>BAR/NIGHT CLUB</td>\n",
       "      <td>NaN</td>\n",
       "      <td>NaN</td>\n",
       "      <td>1007314.0</td>\n",
       "      <td>241257.0</td>\n",
       "      <td>40.828848</td>\n",
       "      <td>-73.916661</td>\n",
       "      <td>(40.828848333, -73.916661142)</td>\n",
       "    </tr>\n",
       "    <tr>\n",
       "      <th>1</th>\n",
       "      <td>153401121</td>\n",
       "      <td>12/31/2015</td>\n",
       "      <td>23:36:00</td>\n",
       "      <td>NaN</td>\n",
       "      <td>NaN</td>\n",
       "      <td>12/31/2015</td>\n",
       "      <td>101</td>\n",
       "      <td>MURDER &amp; NON-NEGL. MANSLAUGHTER</td>\n",
       "      <td>NaN</td>\n",
       "      <td>NaN</td>\n",
       "      <td>...</td>\n",
       "      <td>103.0</td>\n",
       "      <td>OUTSIDE</td>\n",
       "      <td>NaN</td>\n",
       "      <td>NaN</td>\n",
       "      <td>NaN</td>\n",
       "      <td>1043991.0</td>\n",
       "      <td>193406.0</td>\n",
       "      <td>40.697338</td>\n",
       "      <td>-73.784557</td>\n",
       "      <td>(40.697338138, -73.784556739)</td>\n",
       "    </tr>\n",
       "    <tr>\n",
       "      <th>2</th>\n",
       "      <td>569369778</td>\n",
       "      <td>12/31/2015</td>\n",
       "      <td>23:30:00</td>\n",
       "      <td>NaN</td>\n",
       "      <td>NaN</td>\n",
       "      <td>12/31/2015</td>\n",
       "      <td>117</td>\n",
       "      <td>DANGEROUS DRUGS</td>\n",
       "      <td>503.0</td>\n",
       "      <td>CONTROLLED SUBSTANCE,INTENT TO</td>\n",
       "      <td>...</td>\n",
       "      <td>28.0</td>\n",
       "      <td>NaN</td>\n",
       "      <td>OTHER</td>\n",
       "      <td>NaN</td>\n",
       "      <td>NaN</td>\n",
       "      <td>999463.0</td>\n",
       "      <td>231690.0</td>\n",
       "      <td>40.802607</td>\n",
       "      <td>-73.945052</td>\n",
       "      <td>(40.802606608, -73.945051911)</td>\n",
       "    </tr>\n",
       "    <tr>\n",
       "      <th>3</th>\n",
       "      <td>968417082</td>\n",
       "      <td>12/31/2015</td>\n",
       "      <td>23:30:00</td>\n",
       "      <td>NaN</td>\n",
       "      <td>NaN</td>\n",
       "      <td>12/31/2015</td>\n",
       "      <td>344</td>\n",
       "      <td>ASSAULT 3 &amp; RELATED OFFENSES</td>\n",
       "      <td>101.0</td>\n",
       "      <td>ASSAULT 3</td>\n",
       "      <td>...</td>\n",
       "      <td>105.0</td>\n",
       "      <td>INSIDE</td>\n",
       "      <td>RESIDENCE-HOUSE</td>\n",
       "      <td>NaN</td>\n",
       "      <td>NaN</td>\n",
       "      <td>1060183.0</td>\n",
       "      <td>177862.0</td>\n",
       "      <td>40.654549</td>\n",
       "      <td>-73.726339</td>\n",
       "      <td>(40.654549444, -73.726338791)</td>\n",
       "    </tr>\n",
       "    <tr>\n",
       "      <th>4</th>\n",
       "      <td>641637920</td>\n",
       "      <td>12/31/2015</td>\n",
       "      <td>23:25:00</td>\n",
       "      <td>12/31/2015</td>\n",
       "      <td>23:30:00</td>\n",
       "      <td>12/31/2015</td>\n",
       "      <td>344</td>\n",
       "      <td>ASSAULT 3 &amp; RELATED OFFENSES</td>\n",
       "      <td>101.0</td>\n",
       "      <td>ASSAULT 3</td>\n",
       "      <td>...</td>\n",
       "      <td>13.0</td>\n",
       "      <td>FRONT OF</td>\n",
       "      <td>OTHER</td>\n",
       "      <td>NaN</td>\n",
       "      <td>NaN</td>\n",
       "      <td>987606.0</td>\n",
       "      <td>208148.0</td>\n",
       "      <td>40.738002</td>\n",
       "      <td>-73.987891</td>\n",
       "      <td>(40.7380024, -73.98789129)</td>\n",
       "    </tr>\n",
       "  </tbody>\n",
       "</table>\n",
       "<p>5 rows × 24 columns</p>\n",
       "</div>"
      ],
      "text/plain": [
       "   CMPLNT_NUM CMPLNT_FR_DT CMPLNT_FR_TM CMPLNT_TO_DT CMPLNT_TO_TM      RPT_DT  \\\n",
       "0   101109527   12/31/2015     23:45:00          NaN          NaN  12/31/2015   \n",
       "1   153401121   12/31/2015     23:36:00          NaN          NaN  12/31/2015   \n",
       "2   569369778   12/31/2015     23:30:00          NaN          NaN  12/31/2015   \n",
       "3   968417082   12/31/2015     23:30:00          NaN          NaN  12/31/2015   \n",
       "4   641637920   12/31/2015     23:25:00   12/31/2015     23:30:00  12/31/2015   \n",
       "\n",
       "   KY_CD                        OFNS_DESC  PD_CD  \\\n",
       "0    113                          FORGERY  729.0   \n",
       "1    101  MURDER & NON-NEGL. MANSLAUGHTER    NaN   \n",
       "2    117                  DANGEROUS DRUGS  503.0   \n",
       "3    344     ASSAULT 3 & RELATED OFFENSES  101.0   \n",
       "4    344     ASSAULT 3 & RELATED OFFENSES  101.0   \n",
       "\n",
       "                          PD_DESC              ...               ADDR_PCT_CD  \\\n",
       "0  FORGERY,ETC.,UNCLASSIFIED-FELO              ...                      44.0   \n",
       "1                             NaN              ...                     103.0   \n",
       "2  CONTROLLED SUBSTANCE,INTENT TO              ...                      28.0   \n",
       "3                       ASSAULT 3              ...                     105.0   \n",
       "4                       ASSAULT 3              ...                      13.0   \n",
       "\n",
       "  LOC_OF_OCCUR_DESC    PREM_TYP_DESC PARKS_NM  HADEVELOPT X_COORD_CD  \\\n",
       "0            INSIDE   BAR/NIGHT CLUB      NaN         NaN  1007314.0   \n",
       "1           OUTSIDE              NaN      NaN         NaN  1043991.0   \n",
       "2               NaN            OTHER      NaN         NaN   999463.0   \n",
       "3            INSIDE  RESIDENCE-HOUSE      NaN         NaN  1060183.0   \n",
       "4          FRONT OF            OTHER      NaN         NaN   987606.0   \n",
       "\n",
       "  Y_COORD_CD   Latitude  Longitude                        Lat_Lon  \n",
       "0   241257.0  40.828848 -73.916661  (40.828848333, -73.916661142)  \n",
       "1   193406.0  40.697338 -73.784557  (40.697338138, -73.784556739)  \n",
       "2   231690.0  40.802607 -73.945052  (40.802606608, -73.945051911)  \n",
       "3   177862.0  40.654549 -73.726339  (40.654549444, -73.726338791)  \n",
       "4   208148.0  40.738002 -73.987891     (40.7380024, -73.98789129)  \n",
       "\n",
       "[5 rows x 24 columns]"
      ]
     },
     "execution_count": 5,
     "metadata": {},
     "output_type": "execute_result"
    }
   ],
   "source": [
    "pandas_df.head()"
   ]
  },
  {
   "cell_type": "code",
   "execution_count": 6,
   "metadata": {
    "collapsed": true
   },
   "outputs": [],
   "source": [
    "crime_df = sqlContext.read.csv(\"/Users/guozhiqi-seven/Google Drive/NYU Master/Big Data/project/NYPD_Complaint_Data_Historic.csv\",header=True)\n"
   ]
  },
  {
   "cell_type": "code",
   "execution_count": 7,
   "metadata": {
    "collapsed": false
   },
   "outputs": [
    {
     "data": {
      "text/plain": [
       "DataFrame[CMPLNT_NUM: string, CMPLNT_FR_DT: string, CMPLNT_FR_TM: string, CMPLNT_TO_DT: string, CMPLNT_TO_TM: string, RPT_DT: string, KY_CD: string, OFNS_DESC: string, PD_CD: string, PD_DESC: string, CRM_ATPT_CPTD_CD: string, LAW_CAT_CD: string, JURIS_DESC: string, BORO_NM: string, ADDR_PCT_CD: string, LOC_OF_OCCUR_DESC: string, PREM_TYP_DESC: string, PARKS_NM: string, HADEVELOPT: string, X_COORD_CD: string, Y_COORD_CD: string, Latitude: string, Longitude: string, Lat_Lon: string]"
      ]
     },
     "execution_count": 7,
     "metadata": {},
     "output_type": "execute_result"
    }
   ],
   "source": [
    "crime_df"
   ]
  },
  {
   "cell_type": "code",
   "execution_count": 8,
   "metadata": {
    "collapsed": false
   },
   "outputs": [],
   "source": [
    "from csv import reader\n",
    "crimeline = sc.textFile(\"/Users/guozhiqi-seven/Google Drive/NYU Master/Big Data/project/NYPD_Complaint_Data_Historic.csv\")\n",
    "header = crimeline.first() #header\n",
    "crimeline=crimeline.filter(lambda line: line != header)\n",
    "crimeline = crimeline.mapPartitions(lambda x: reader(x)).map(lambda x: (x[0],1))\n",
    "\n",
    "crimeline = crimeline.map(lambda x: ('NotNaN',1) if x[0] != None else ('NaN',1))"
   ]
  },
  {
   "cell_type": "code",
   "execution_count": 9,
   "metadata": {
    "collapsed": false
   },
   "outputs": [
    {
     "data": {
      "text/plain": [
       "[('NotNaN', 1), ('NotNaN', 1), ('NotNaN', 1), ('NotNaN', 1), ('NotNaN', 1)]"
      ]
     },
     "execution_count": 9,
     "metadata": {},
     "output_type": "execute_result"
    }
   ],
   "source": [
    "crimeline.take(5) "
   ]
  },
  {
   "cell_type": "code",
   "execution_count": 10,
   "metadata": {
    "collapsed": false
   },
   "outputs": [
    {
     "data": {
      "text/plain": [
       "'CMPLNT_NUM,CMPLNT_FR_DT,CMPLNT_FR_TM,CMPLNT_TO_DT,CMPLNT_TO_TM,RPT_DT,KY_CD,OFNS_DESC,PD_CD,PD_DESC,CRM_ATPT_CPTD_CD,LAW_CAT_CD,JURIS_DESC,BORO_NM,ADDR_PCT_CD,LOC_OF_OCCUR_DESC,PREM_TYP_DESC,PARKS_NM,HADEVELOPT,X_COORD_CD,Y_COORD_CD,Latitude,Longitude,Lat_Lon'"
      ]
     },
     "execution_count": 10,
     "metadata": {},
     "output_type": "execute_result"
    }
   ],
   "source": [
    "header"
   ]
  },
  {
   "cell_type": "code",
   "execution_count": 11,
   "metadata": {
    "collapsed": true
   },
   "outputs": [],
   "source": [
    "crimeline=crimeline.reduceByKey(add).collect()"
   ]
  },
  {
   "cell_type": "code",
   "execution_count": 12,
   "metadata": {
    "collapsed": false
   },
   "outputs": [
    {
     "data": {
      "text/plain": [
       "[('NotNaN', 5101231)]"
      ]
     },
     "execution_count": 12,
     "metadata": {},
     "output_type": "execute_result"
    }
   ],
   "source": [
    "crimeline"
   ]
  },
  {
   "cell_type": "code",
   "execution_count": 17,
   "metadata": {
    "collapsed": false
   },
   "outputs": [],
   "source": [
    "crimeline = sc.textFile(\"/Users/guozhiqi-seven/Google Drive/NYU Master/Big Data/project/NYPD_Complaint_Data_Historic.csv\")\n",
    "header = crimeline.first() #header\n",
    "crimeline=crimeline.filter(lambda line: line != header)\n",
    "CMPLNT_TO_DT = crimeline.mapPartitions(lambda x: reader(x)).map(lambda x: (x[3],1))\n",
    "\n",
    "CMPLNT_TO_DT = CMPLNT_TO_DT.map(lambda x: ('NotNaN',1) if x[0] != np.nan else ('NaN',1))"
   ]
  },
  {
   "cell_type": "code",
   "execution_count": 18,
   "metadata": {
    "collapsed": false
   },
   "outputs": [],
   "source": [
    "CMPLNT_TO_DT=CMPLNT_TO_DT.reduceByKey(add).collect()"
   ]
  },
  {
   "cell_type": "code",
   "execution_count": 19,
   "metadata": {
    "collapsed": false
   },
   "outputs": [
    {
     "data": {
      "text/plain": [
       "[('NotNaN', 5101231)]"
      ]
     },
     "execution_count": 19,
     "metadata": {},
     "output_type": "execute_result"
    }
   ],
   "source": [
    "CMPLNT_TO_DT"
   ]
  },
  {
   "cell_type": "code",
   "execution_count": 28,
   "metadata": {
    "collapsed": false
   },
   "outputs": [
    {
     "data": {
      "text/plain": [
       "DataFrame[sum(CAST((CMPLNT_NUM IS NULL) AS INT) AS `CMPLNT_NUM`): bigint, sum(CAST((CMPLNT_FR_DT IS NULL) AS INT) AS `CMPLNT_FR_DT`): bigint, sum(CAST((CMPLNT_FR_TM IS NULL) AS INT) AS `CMPLNT_FR_TM`): bigint, sum(CAST((CMPLNT_TO_DT IS NULL) AS INT) AS `CMPLNT_TO_DT`): bigint, sum(CAST((CMPLNT_TO_TM IS NULL) AS INT) AS `CMPLNT_TO_TM`): bigint, sum(CAST((RPT_DT IS NULL) AS INT) AS `RPT_DT`): bigint, sum(CAST((KY_CD IS NULL) AS INT) AS `KY_CD`): bigint, sum(CAST((OFNS_DESC IS NULL) AS INT) AS `OFNS_DESC`): bigint, sum(CAST((PD_CD IS NULL) AS INT) AS `PD_CD`): bigint, sum(CAST((PD_DESC IS NULL) AS INT) AS `PD_DESC`): bigint, sum(CAST((CRM_ATPT_CPTD_CD IS NULL) AS INT) AS `CRM_ATPT_CPTD_CD`): bigint, sum(CAST((LAW_CAT_CD IS NULL) AS INT) AS `LAW_CAT_CD`): bigint, sum(CAST((JURIS_DESC IS NULL) AS INT) AS `JURIS_DESC`): bigint, sum(CAST((BORO_NM IS NULL) AS INT) AS `BORO_NM`): bigint, sum(CAST((ADDR_PCT_CD IS NULL) AS INT) AS `ADDR_PCT_CD`): bigint, sum(CAST((LOC_OF_OCCUR_DESC IS NULL) AS INT) AS `LOC_OF_OCCUR_DESC`): bigint, sum(CAST((PREM_TYP_DESC IS NULL) AS INT) AS `PREM_TYP_DESC`): bigint, sum(CAST((PARKS_NM IS NULL) AS INT) AS `PARKS_NM`): bigint, sum(CAST((HADEVELOPT IS NULL) AS INT) AS `HADEVELOPT`): bigint, sum(CAST((X_COORD_CD IS NULL) AS INT) AS `X_COORD_CD`): bigint, sum(CAST((Y_COORD_CD IS NULL) AS INT) AS `Y_COORD_CD`): bigint, sum(CAST((Latitude IS NULL) AS INT) AS `Latitude`): bigint, sum(CAST((Longitude IS NULL) AS INT) AS `Longitude`): bigint, sum(CAST((Lat_Lon IS NULL) AS INT) AS `Lat_Lon`): bigint]"
      ]
     },
     "execution_count": 28,
     "metadata": {},
     "output_type": "execute_result"
    }
   ],
   "source": [
    "from pyspark.sql.functions import col, count, sum\n",
    "\n",
    "def count_null(c):\n",
    "    \"\"\"Use conversion between boolean and integer\n",
    "    - False -> 0\n",
    "    - True ->  1\n",
    "    \"\"\"\n",
    "    return sum(col(c).isNull().cast(\"integer\").alias(c))\n",
    "\n",
    "exprs = [count_null(c) for c in crime_df.columns]\n",
    "crime_df.agg(*exprs) "
   ]
  },
  {
   "cell_type": "code",
   "execution_count": 37,
   "metadata": {
    "collapsed": false
   },
   "outputs": [
    {
     "data": {
      "text/html": [
       "<div>\n",
       "<table border=\"1\" class=\"dataframe\">\n",
       "  <thead>\n",
       "    <tr style=\"text-align: right;\">\n",
       "      <th></th>\n",
       "      <th>sum(CAST((CMPLNT_NUM IS NULL) AS INT) AS `CMPLNT_NUM`)</th>\n",
       "      <th>sum(CAST((CMPLNT_FR_DT IS NULL) AS INT) AS `CMPLNT_FR_DT`)</th>\n",
       "      <th>sum(CAST((CMPLNT_FR_TM IS NULL) AS INT) AS `CMPLNT_FR_TM`)</th>\n",
       "      <th>sum(CAST((CMPLNT_TO_DT IS NULL) AS INT) AS `CMPLNT_TO_DT`)</th>\n",
       "      <th>sum(CAST((CMPLNT_TO_TM IS NULL) AS INT) AS `CMPLNT_TO_TM`)</th>\n",
       "      <th>sum(CAST((RPT_DT IS NULL) AS INT) AS `RPT_DT`)</th>\n",
       "      <th>sum(CAST((KY_CD IS NULL) AS INT) AS `KY_CD`)</th>\n",
       "      <th>sum(CAST((OFNS_DESC IS NULL) AS INT) AS `OFNS_DESC`)</th>\n",
       "      <th>sum(CAST((PD_CD IS NULL) AS INT) AS `PD_CD`)</th>\n",
       "      <th>sum(CAST((PD_DESC IS NULL) AS INT) AS `PD_DESC`)</th>\n",
       "      <th>...</th>\n",
       "      <th>sum(CAST((ADDR_PCT_CD IS NULL) AS INT) AS `ADDR_PCT_CD`)</th>\n",
       "      <th>sum(CAST((LOC_OF_OCCUR_DESC IS NULL) AS INT) AS `LOC_OF_OCCUR_DESC`)</th>\n",
       "      <th>sum(CAST((PREM_TYP_DESC IS NULL) AS INT) AS `PREM_TYP_DESC`)</th>\n",
       "      <th>sum(CAST((PARKS_NM IS NULL) AS INT) AS `PARKS_NM`)</th>\n",
       "      <th>sum(CAST((HADEVELOPT IS NULL) AS INT) AS `HADEVELOPT`)</th>\n",
       "      <th>sum(CAST((X_COORD_CD IS NULL) AS INT) AS `X_COORD_CD`)</th>\n",
       "      <th>sum(CAST((Y_COORD_CD IS NULL) AS INT) AS `Y_COORD_CD`)</th>\n",
       "      <th>sum(CAST((Latitude IS NULL) AS INT) AS `Latitude`)</th>\n",
       "      <th>sum(CAST((Longitude IS NULL) AS INT) AS `Longitude`)</th>\n",
       "      <th>sum(CAST((Lat_Lon IS NULL) AS INT) AS `Lat_Lon`)</th>\n",
       "    </tr>\n",
       "  </thead>\n",
       "  <tbody>\n",
       "    <tr>\n",
       "      <th>0</th>\n",
       "      <td>0</td>\n",
       "      <td>655</td>\n",
       "      <td>48</td>\n",
       "      <td>1391478</td>\n",
       "      <td>1387785</td>\n",
       "      <td>0</td>\n",
       "      <td>0</td>\n",
       "      <td>18840</td>\n",
       "      <td>4574</td>\n",
       "      <td>4574</td>\n",
       "      <td>...</td>\n",
       "      <td>390</td>\n",
       "      <td>1127128</td>\n",
       "      <td>33279</td>\n",
       "      <td>5093632</td>\n",
       "      <td>4848026</td>\n",
       "      <td>188146</td>\n",
       "      <td>188146</td>\n",
       "      <td>188146</td>\n",
       "      <td>188146</td>\n",
       "      <td>188146</td>\n",
       "    </tr>\n",
       "  </tbody>\n",
       "</table>\n",
       "<p>1 rows × 24 columns</p>\n",
       "</div>"
      ],
      "text/plain": [
       "   sum(CAST((CMPLNT_NUM IS NULL) AS INT) AS `CMPLNT_NUM`)  \\\n",
       "0                                                  0        \n",
       "\n",
       "   sum(CAST((CMPLNT_FR_DT IS NULL) AS INT) AS `CMPLNT_FR_DT`)  \\\n",
       "0                                                655            \n",
       "\n",
       "   sum(CAST((CMPLNT_FR_TM IS NULL) AS INT) AS `CMPLNT_FR_TM`)  \\\n",
       "0                                                 48            \n",
       "\n",
       "   sum(CAST((CMPLNT_TO_DT IS NULL) AS INT) AS `CMPLNT_TO_DT`)  \\\n",
       "0                                            1391478            \n",
       "\n",
       "   sum(CAST((CMPLNT_TO_TM IS NULL) AS INT) AS `CMPLNT_TO_TM`)  \\\n",
       "0                                            1387785            \n",
       "\n",
       "   sum(CAST((RPT_DT IS NULL) AS INT) AS `RPT_DT`)  \\\n",
       "0                                               0   \n",
       "\n",
       "   sum(CAST((KY_CD IS NULL) AS INT) AS `KY_CD`)  \\\n",
       "0                                             0   \n",
       "\n",
       "   sum(CAST((OFNS_DESC IS NULL) AS INT) AS `OFNS_DESC`)  \\\n",
       "0                                              18840      \n",
       "\n",
       "   sum(CAST((PD_CD IS NULL) AS INT) AS `PD_CD`)  \\\n",
       "0                                          4574   \n",
       "\n",
       "   sum(CAST((PD_DESC IS NULL) AS INT) AS `PD_DESC`)  \\\n",
       "0                                              4574   \n",
       "\n",
       "                         ...                         \\\n",
       "0                        ...                          \n",
       "\n",
       "   sum(CAST((ADDR_PCT_CD IS NULL) AS INT) AS `ADDR_PCT_CD`)  \\\n",
       "0                                                390          \n",
       "\n",
       "   sum(CAST((LOC_OF_OCCUR_DESC IS NULL) AS INT) AS `LOC_OF_OCCUR_DESC`)  \\\n",
       "0                                            1127128                      \n",
       "\n",
       "   sum(CAST((PREM_TYP_DESC IS NULL) AS INT) AS `PREM_TYP_DESC`)  \\\n",
       "0                                              33279              \n",
       "\n",
       "   sum(CAST((PARKS_NM IS NULL) AS INT) AS `PARKS_NM`)  \\\n",
       "0                                            5093632    \n",
       "\n",
       "   sum(CAST((HADEVELOPT IS NULL) AS INT) AS `HADEVELOPT`)  \\\n",
       "0                                            4848026        \n",
       "\n",
       "   sum(CAST((X_COORD_CD IS NULL) AS INT) AS `X_COORD_CD`)  \\\n",
       "0                                             188146        \n",
       "\n",
       "   sum(CAST((Y_COORD_CD IS NULL) AS INT) AS `Y_COORD_CD`)  \\\n",
       "0                                             188146        \n",
       "\n",
       "   sum(CAST((Latitude IS NULL) AS INT) AS `Latitude`)  \\\n",
       "0                                             188146    \n",
       "\n",
       "   sum(CAST((Longitude IS NULL) AS INT) AS `Longitude`)  \\\n",
       "0                                             188146      \n",
       "\n",
       "   sum(CAST((Lat_Lon IS NULL) AS INT) AS `Lat_Lon`)  \n",
       "0                                            188146  \n",
       "\n",
       "[1 rows x 24 columns]"
      ]
     },
     "execution_count": 37,
     "metadata": {},
     "output_type": "execute_result"
    }
   ],
   "source": [
    "crime_df.agg(*exprs).toPandas()"
   ]
  },
  {
   "cell_type": "code",
   "execution_count": 2,
   "metadata": {
    "collapsed": false,
    "scrolled": false
   },
   "outputs": [
    {
     "data": {
      "text/plain": [
       "[('2014', 490363),\n",
       " ('', 655),\n",
       " ('2003', 1535),\n",
       " ('1971', 3),\n",
       " ('1966', 26),\n",
       " ('1948', 1),\n",
       " ('1900', 5),\n",
       " ('1942', 2),\n",
       " ('1961', 1),\n",
       " ('2008', 528675),\n",
       " ('1915', 7),\n",
       " ('2010', 509725),\n",
       " ('1996', 120),\n",
       " ('1991', 27),\n",
       " ('1975', 8),\n",
       " ('1941', 2),\n",
       " ('1965', 5),\n",
       " ('1909', 3),\n",
       " ('1998', 216),\n",
       " ('1970', 6),\n",
       " ('1995', 73),\n",
       " ('1969', 6),\n",
       " ('1955', 3),\n",
       " ('1920', 6),\n",
       " ('1979', 9),\n",
       " ('1905', 2),\n",
       " ('1986', 27),\n",
       " ('1908', 3),\n",
       " ('1906', 1),\n",
       " ('1997', 131),\n",
       " ('2005', 10767),\n",
       " ('1950', 3),\n",
       " ('1976', 3),\n",
       " ('1973', 7),\n",
       " ('1999', 334),\n",
       " ('1940', 1),\n",
       " ('2002', 1039),\n",
       " ('1913', 9),\n",
       " ('1994', 63),\n",
       " ('1946', 1),\n",
       " ('1993', 42),\n",
       " ('2012', 504128),\n",
       " ('2015', 468576),\n",
       " ('1982', 7),\n",
       " ('2001', 986),\n",
       " ('1938', 1),\n",
       " ('1990', 34),\n",
       " ('1959', 2),\n",
       " ('1914', 10),\n",
       " ('1960', 8),\n",
       " ('1910', 9),\n",
       " ('1980', 13),\n",
       " ('1954', 2),\n",
       " ('1919', 1),\n",
       " ('1962', 3),\n",
       " ('1992', 44),\n",
       " ('2004', 2095),\n",
       " ('1968', 10),\n",
       " ('2000', 902),\n",
       " ('1911', 7),\n",
       " ('2011', 498198),\n",
       " ('1978', 5),\n",
       " ('1974', 9),\n",
       " ('1956', 1),\n",
       " ('2006', 539024),\n",
       " ('2009', 510946),\n",
       " ('1964', 1),\n",
       " ('1977', 8),\n",
       " ('1983', 3),\n",
       " ('R_DT', 1),\n",
       " ('2007', 537201),\n",
       " ('1958', 1),\n",
       " ('1981', 8),\n",
       " ('1972', 5),\n",
       " ('2013', 494958),\n",
       " ('1922', 1),\n",
       " ('1945', 2),\n",
       " ('1984', 7),\n",
       " ('1987', 12),\n",
       " ('1912', 9),\n",
       " ('1015', 7),\n",
       " ('1967', 13),\n",
       " ('1985', 18),\n",
       " ('1929', 1),\n",
       " ('1930', 1),\n",
       " ('1988', 16),\n",
       " ('1989', 23)]"
      ]
     },
     "execution_count": 2,
     "metadata": {},
     "output_type": "execute_result"
    }
   ],
   "source": [
    "crimedata = sc.textFile(\"/Users/guozhiqi-seven/Google Drive/NYU Master/Big Data/project/NYPD_Complaint_Data_Historic.csv\")\n",
    "#crimedata.count() \n",
    "\n",
    "CMPLNT_FR_DT_year = crimedata.mapPartitions(lambda x: reader(x)).map(lambda x: (x[1][-4:],1))\n",
    "CMPLNT_FR_DT_year.reduceByKey(add).collect()"
   ]
  },
  {
   "cell_type": "code",
   "execution_count": 60,
   "metadata": {
    "collapsed": false
   },
   "outputs": [
    {
     "data": {
      "text/plain": [
       "[('', 655),\n",
       " ('05', 447946),\n",
       " ('CM', 1),\n",
       " ('01', 416073),\n",
       " ('12', 396451),\n",
       " ('09', 437906),\n",
       " ('11', 404670),\n",
       " ('08', 455531),\n",
       " ('06', 440047),\n",
       " ('07', 455911),\n",
       " ('03', 421703),\n",
       " ('04', 415965),\n",
       " ('10', 445188),\n",
       " ('02', 363185)]"
      ]
     },
     "execution_count": 60,
     "metadata": {},
     "output_type": "execute_result"
    }
   ],
   "source": [
    "CMPLNT_FR_DT_month = crimedata.mapPartitions(lambda x: reader(x)).map(lambda x: (x[1][:2],1))\n",
    "CMPLNT_FR_DT_month.reduceByKey(add).collect() "
   ]
  },
  {
   "cell_type": "code",
   "execution_count": 61,
   "metadata": {
    "collapsed": false
   },
   "outputs": [
    {
     "data": {
      "text/plain": [
       "[('', 655),\n",
       " ('17', 167483),\n",
       " ('05', 169483),\n",
       " ('16', 165424),\n",
       " ('14', 166979),\n",
       " ('24', 163435),\n",
       " ('20', 173893),\n",
       " ('22', 165593),\n",
       " ('01', 212054),\n",
       " ('26', 160702),\n",
       " ('19', 164112),\n",
       " ('12', 168548),\n",
       " ('09', 166012),\n",
       " ('11', 166249),\n",
       " ('18', 166818),\n",
       " ('28', 164046),\n",
       " ('LN', 1),\n",
       " ('23', 165317),\n",
       " ('08', 164996),\n",
       " ('06', 165261),\n",
       " ('13', 166491),\n",
       " ('07', 165986),\n",
       " ('03', 165137),\n",
       " ('29', 150850),\n",
       " ('31', 94513),\n",
       " ('30', 150996),\n",
       " ('04', 165540),\n",
       " ('15', 175027),\n",
       " ('27', 163069),\n",
       " ('10', 171303),\n",
       " ('25', 162778),\n",
       " ('02', 165517),\n",
       " ('21', 166964)]"
      ]
     },
     "execution_count": 61,
     "metadata": {},
     "output_type": "execute_result"
    }
   ],
   "source": [
    "CMPLNT_FR_DT_date = crimedata.mapPartitions(lambda x: reader(x)).map(lambda x: (x[1][3:5],1))\n",
    "CMPLNT_FR_DT_date.reduceByKey(add).collect()"
   ]
  },
  {
   "cell_type": "code",
   "execution_count": 62,
   "metadata": {
    "collapsed": false
   },
   "outputs": [
    {
     "data": {
      "text/plain": [
       "[('', 48),\n",
       " ('17', 291049),\n",
       " ('05', 72068),\n",
       " ('CM', 1),\n",
       " ('16', 291289),\n",
       " ('14', 271976),\n",
       " ('20', 290218),\n",
       " ('24', 903),\n",
       " ('22', 251364),\n",
       " ('00', 242359),\n",
       " ('01', 176868),\n",
       " ('19', 292329),\n",
       " ('12', 280052),\n",
       " ('09', 188304),\n",
       " ('11', 199185),\n",
       " ('18', 300438),\n",
       " ('23', 233095),\n",
       " ('08', 170462),\n",
       " ('06', 73137),\n",
       " ('13', 239953),\n",
       " ('07', 104624),\n",
       " ('03', 118617),\n",
       " ('04', 103641),\n",
       " ('15', 308633),\n",
       " ('10', 194347),\n",
       " ('02', 141190),\n",
       " ('21', 265082)]"
      ]
     },
     "execution_count": 62,
     "metadata": {},
     "output_type": "execute_result"
    }
   ],
   "source": [
    "CMPLNT_FR_TM_hour = crimedata.mapPartitions(lambda x: reader(x)).map(lambda x: (x[2][:2],1))\n",
    "CMPLNT_FR_TM_hour.reduceByKey(add).collect()"
   ]
  },
  {
   "cell_type": "code",
   "execution_count": 12,
   "metadata": {
    "collapsed": false,
    "scrolled": true
   },
   "outputs": [
    {
     "data": {
      "text/plain": [
       "[(('341', 'PETIT LARCENY'), 822498),\n",
       " (('578', 'HARRASSMENT 2'), 604070),\n",
       " (('344', 'ASSAULT 3 & RELATED OFFENSES'), 521538),\n",
       " (('351', 'CRIMINAL MISCHIEF & RELATED OF'), 433358),\n",
       " (('109', 'GRAND LARCENY'), 429196),\n",
       " (('235', 'DANGEROUS DRUGS'), 285790),\n",
       " (('361', 'OFF. AGNST PUB ORD SENSBLTY &'), 283065),\n",
       " (('105', 'ROBBERY'), 198772),\n",
       " (('107', 'BURGLARY'), 191406),\n",
       " (('106', 'FELONY ASSAULT'), 184069),\n",
       " (('126', 'MISCELLANEOUS PENAL LAW'), 110468),\n",
       " (('110', 'GRAND LARCENY OF MOTOR VEHICLE'), 102061),\n",
       " (('359', 'OFFENSES AGAINST PUBLIC ADMINI'), 100118),\n",
       " (('347', 'INTOXICATED & IMPAIRED DRIVING'), 73730),\n",
       " (('236', 'DANGEROUS WEAPONS'), 73672),\n",
       " (('121', 'CRIMINAL MISCHIEF & RELATED OF'), 72416),\n",
       " (('352', 'CRIMINAL TRESPASS'), 66544),\n",
       " (('117', 'DANGEROUS DRUGS'), 62679),\n",
       " (('348', 'VEHICLE AND TRAFFIC LAWS'), 59140),\n",
       " (('112', 'THEFT-FRAUD'), 56762),\n",
       " (('118', 'DANGEROUS WEAPONS'), 50563),\n",
       " (('113', 'FORGERY'), 49303),\n",
       " (('233', 'SEX CRIMES'), 44117),\n",
       " (('340', 'FRAUDS'), 32054),\n",
       " (('232', 'POSSESSION OF STOLEN PROPERTY'), 20376),\n",
       " (('358', 'OFFENSES INVOLVING FRAUD'), 17737),\n",
       " (('360', ''), 16041),\n",
       " (('114', 'ARSON'), 13984),\n",
       " (('353', 'UNAUTHORIZED USE OF A VEHICLE'), 13826),\n",
       " (('104', 'RAPE'), 13791),\n",
       " (('355', 'OFFENSES AGAINST THE PERSON'), 12339),\n",
       " (('116', 'SEX CRIMES'), 10853),\n",
       " (('365', 'ADMINISTRATIVE CODE'), 9937),\n",
       " (('343', 'OTHER OFFENSES RELATED TO THEF'), 9731),\n",
       " (('111', 'POSSESSION OF STOLEN PROPERTY'), 9112),\n",
       " (('678', 'MISCELLANEOUS PENAL LAW'), 8253),\n",
       " (('364', 'OTHER STATE LAWS (NON PENAL LA'), 5505),\n",
       " (('101', 'MURDER & NON-NEGL. MANSLAUGHTER'), 4574),\n",
       " (('125', 'NYS LAWS-UNCLASSIFIED FELONY'), 3755),\n",
       " (('343', 'THEFT OF SERVICES'), 2778),\n",
       " (('238', 'FRAUDULENT ACCOSTING'), 2645),\n",
       " (('231', \"BURGLAR'S TOOLS\"), 2477),\n",
       " (('124', 'KIDNAPPING & RELATED OFFENSES'), 2300),\n",
       " (('350', 'GAMBLING'), 1901),\n",
       " (('126', ''), 1798),\n",
       " (('675', 'ADMINISTRATIVE CODE'), 1446),\n",
       " (('345', 'OFFENSES RELATED TO CHILDREN'), 1346),\n",
       " (('342', 'PETIT LARCENY OF MOTOR VEHICLE'), 908),\n",
       " (('572', 'DISORDERLY CONDUCT'), 829),\n",
       " (('363', 'OFFENSES AGAINST PUBLIC SAFETY'), 810),\n",
       " (('346', 'ALCOHOLIC BEVERAGE CONTROL LAW'), 750),\n",
       " (('356', 'PROSTITUTION & RELATED OFFENSES'), 609),\n",
       " (('364', ''), 402),\n",
       " (('120', 'CHILD ABANDONMENT/NON SUPPORT'), 367),\n",
       " (('230', 'JOSTLING'), 299),\n",
       " (('677', 'OTHER STATE LAWS'), 233),\n",
       " (('678', ''), 223),\n",
       " (('571', 'LOITERING/GAMBLING (CARDS, DIC'), 207),\n",
       " (('237', 'ESCAPE 3'), 167),\n",
       " (('115', 'PROSTITUTION & RELATED OFFENSES'), 122),\n",
       " (('345', 'ENDAN WELFARE INCOMP'), 122),\n",
       " (('122', 'GAMBLING'), 122),\n",
       " (('234', 'PROSTITUTION & RELATED OFFENSES'), 111),\n",
       " (('354', 'ANTICIPATORY OFFENSES'), 95),\n",
       " (('102', 'HOMICIDE-NEGLIGENT-VEHICLE'), 93),\n",
       " (('364', 'AGRICULTURE & MRKTS LAW-UNCLASSIFIED'), 83),\n",
       " (('344', ''), 73),\n",
       " (('578', ''), 71),\n",
       " (('455', 'UNLAWFUL POSS. WEAP. ON SCHOOL'), 59),\n",
       " (('106', ''), 55),\n",
       " (('119', 'INTOXICATED/IMPAIRED DRIVING'), 48),\n",
       " (('349', 'DISRUPTION OF A RELIGIOUS SERV'), 47),\n",
       " (('366', 'NEW YORK CITY HEALTH CODE'), 44),\n",
       " (('361', ''), 37),\n",
       " (('103', 'HOMICIDE-NEGLIGENT,UNCLASSIFIE'), 33),\n",
       " (('676', 'NEW YORK CITY HEALTH CODE'), 31),\n",
       " (('360', 'LOITERING FOR DRUG PURPOSES'), 23),\n",
       " (('120', 'ENDAN WELFARE INCOMP'), 22),\n",
       " (('672', 'LOITERING'), 20),\n",
       " (('685', 'ADMINISTRATIVE CODES'), 18),\n",
       " (('359', ''), 16),\n",
       " (('460', 'LOITERING/DEVIATE SEX'), 16),\n",
       " (('233', ''), 13),\n",
       " (('881', 'OTHER TRAFFIC INFRACTION'), 13),\n",
       " (('235', ''), 11),\n",
       " (('357', 'FORTUNE TELLING'), 11),\n",
       " (('351', ''), 10),\n",
       " (('341', ''), 10),\n",
       " (('356', ''), 9),\n",
       " (('109', ''), 9),\n",
       " (('236', ''), 8),\n",
       " (('112', ''), 6),\n",
       " (('677', 'NYS LAWS-UNCLASSIFIED VIOLATION'), 6),\n",
       " (('352', ''), 5),\n",
       " (('121', ''), 5),\n",
       " (('364', 'OTHER STATE LAWS (NON PENAL LAW)'), 4),\n",
       " (('675', ''), 4),\n",
       " (('123', 'ABORTION'), 4),\n",
       " (('117', ''), 4),\n",
       " (('347', ''), 3),\n",
       " (('340', ''), 3),\n",
       " (('577', 'UNDER THE INFLUENCE OF DRUGS'), 3),\n",
       " (('362', 'OFFENSES AGAINST MARRIAGE UNCL'), 3),\n",
       " (('365', ''), 2),\n",
       " (('116', ''), 2),\n",
       " (('355', ''), 2),\n",
       " (('343', ''), 2),\n",
       " (('358', ''), 2),\n",
       " (('105', ''), 2),\n",
       " (('348', ''), 2),\n",
       " (('124', 'KIDNAPPING AND RELATED OFFENSES'), 2),\n",
       " (('124', 'KIDNAPPING'), 2),\n",
       " (('230', ''), 1),\n",
       " (('125', ''), 1),\n",
       " (('232', ''), 1),\n",
       " (('113', ''), 1),\n",
       " (('107', ''), 1),\n",
       " (('124', ''), 1),\n",
       " (('111', ''), 1),\n",
       " (('350', ''), 1),\n",
       " (('237', ''), 1),\n",
       " (('366', ''), 1),\n",
       " (('KY_CD', 'OFNS_DESC'), 1)]"
      ]
     },
     "execution_count": 12,
     "metadata": {},
     "output_type": "execute_result"
    }
   ],
   "source": [
    "offense_classification = crimedata.mapPartitions(lambda x: reader(x)).map(lambda x: ((x[6],x[7]),1))\n",
    "sorted(offense_classification.reduceByKey(add).collect(),key=lambda x:x[1],reverse=True)\n",
    " "
   ]
  },
  {
   "cell_type": "code",
   "execution_count": 4,
   "metadata": {
    "collapsed": false
   },
   "outputs": [
    {
     "data": {
      "text/plain": [
       "[('', 48),\n",
       " ('34', 10727),\n",
       " ('17', 11893),\n",
       " ('05', 102330),\n",
       " ('16', 10227),\n",
       " ('14', 11759),\n",
       " ('55', 99305),\n",
       " ('24', 11642),\n",
       " ('20', 222793),\n",
       " ('22', 11735),\n",
       " ('39', 10899),\n",
       " ('40', 208419),\n",
       " ('00', 1827614),\n",
       " ('26', 10487),\n",
       " ('01', 76567),\n",
       " ('57', 11133),\n",
       " ('19', 11233),\n",
       " ('52', 10961),\n",
       " ('44', 11092),\n",
       " ('12', 13552),\n",
       " ('09', 11421),\n",
       " ('11', 10260),\n",
       " ('18', 15547),\n",
       " ('49', 10670),\n",
       " ('37', 11309),\n",
       " ('28', 14297),\n",
       " ('41', 8806),\n",
       " ('56', 9972),\n",
       " ('23', 12350),\n",
       " ('LN', 1),\n",
       " ('43', 12130),\n",
       " ('59', 11952),\n",
       " ('36', 10723),\n",
       " ('42', 11591),\n",
       " ('08', 14653),\n",
       " ('06', 10769),\n",
       " ('50', 218622),\n",
       " ('13', 11963),\n",
       " ('32', 10863),\n",
       " ('07', 11486),\n",
       " ('54', 10326),\n",
       " ('35', 100300),\n",
       " ('29', 10600),\n",
       " ('03', 11612),\n",
       " ('46', 9998),\n",
       " ('38', 14474),\n",
       " ('53', 11092),\n",
       " ('45', 266329),\n",
       " ('31', 7881),\n",
       " ('30', 887332),\n",
       " ('33', 11058),\n",
       " ('04', 10516),\n",
       " ('15', 264658),\n",
       " ('48', 14856),\n",
       " ('27', 11455),\n",
       " ('10', 179026),\n",
       " ('25', 110572),\n",
       " ('47', 11553),\n",
       " ('02', 11506),\n",
       " ('58', 14566),\n",
       " ('51', 8521),\n",
       " ('21', 9200)]"
      ]
     },
     "execution_count": 4,
     "metadata": {},
     "output_type": "execute_result"
    }
   ],
   "source": [
    "CMPLNT_FR_TM_min = crimedata.mapPartitions(lambda x: reader(x)).map(lambda x: (x[2][3:5],1))\n",
    "CMPLNT_FR_TM_min.reduceByKey(add).collect()"
   ]
  },
  {
   "cell_type": "code",
   "execution_count": 5,
   "metadata": {
    "collapsed": false,
    "scrolled": false
   },
   "outputs": [
    {
     "data": {
      "text/plain": [
       "[(('KY_CD', 'OFNS_DESC'), 1),\n",
       " (('881', 'OTHER TRAFFIC INFRACTION'), 13),\n",
       " (('685', 'ADMINISTRATIVE CODES'), 18),\n",
       " (('678', ''), 223),\n",
       " (('678', 'MISCELLANEOUS PENAL LAW'), 8253),\n",
       " (('677', 'NYS LAWS-UNCLASSIFIED VIOLATION'), 6),\n",
       " (('677', 'OTHER STATE LAWS'), 233),\n",
       " (('676', 'NEW YORK CITY HEALTH CODE'), 31),\n",
       " (('675', 'ADMINISTRATIVE CODE'), 1446),\n",
       " (('675', ''), 4),\n",
       " (('672', 'LOITERING'), 20),\n",
       " (('578', 'HARRASSMENT 2'), 604070),\n",
       " (('578', ''), 71),\n",
       " (('577', 'UNDER THE INFLUENCE OF DRUGS'), 3),\n",
       " (('572', 'DISORDERLY CONDUCT'), 829),\n",
       " (('571', 'LOITERING/GAMBLING (CARDS, DIC'), 207),\n",
       " (('460', 'LOITERING/DEVIATE SEX'), 16),\n",
       " (('455', 'UNLAWFUL POSS. WEAP. ON SCHOOL'), 59),\n",
       " (('366', 'NEW YORK CITY HEALTH CODE'), 44),\n",
       " (('366', ''), 1),\n",
       " (('365', ''), 2),\n",
       " (('365', 'ADMINISTRATIVE CODE'), 9937),\n",
       " (('364', 'AGRICULTURE & MRKTS LAW-UNCLASSIFIED'), 83),\n",
       " (('364', ''), 402),\n",
       " (('364', 'OTHER STATE LAWS (NON PENAL LAW)'), 4),\n",
       " (('364', 'OTHER STATE LAWS (NON PENAL LA'), 5505),\n",
       " (('363', 'OFFENSES AGAINST PUBLIC SAFETY'), 810),\n",
       " (('362', 'OFFENSES AGAINST MARRIAGE UNCL'), 3),\n",
       " (('361', 'OFF. AGNST PUB ORD SENSBLTY &'), 283065),\n",
       " (('361', ''), 37),\n",
       " (('360', 'LOITERING FOR DRUG PURPOSES'), 23),\n",
       " (('360', ''), 16041),\n",
       " (('359', ''), 16),\n",
       " (('359', 'OFFENSES AGAINST PUBLIC ADMINI'), 100118),\n",
       " (('358', ''), 2),\n",
       " (('358', 'OFFENSES INVOLVING FRAUD'), 17737),\n",
       " (('357', 'FORTUNE TELLING'), 11),\n",
       " (('356', 'PROSTITUTION & RELATED OFFENSES'), 609),\n",
       " (('356', ''), 9),\n",
       " (('355', ''), 2),\n",
       " (('355', 'OFFENSES AGAINST THE PERSON'), 12339),\n",
       " (('354', 'ANTICIPATORY OFFENSES'), 95),\n",
       " (('353', 'UNAUTHORIZED USE OF A VEHICLE'), 13826),\n",
       " (('352', ''), 5),\n",
       " (('352', 'CRIMINAL TRESPASS'), 66544),\n",
       " (('351', ''), 10),\n",
       " (('351', 'CRIMINAL MISCHIEF & RELATED OF'), 433358),\n",
       " (('350', 'GAMBLING'), 1901),\n",
       " (('350', ''), 1),\n",
       " (('349', 'DISRUPTION OF A RELIGIOUS SERV'), 47),\n",
       " (('348', 'VEHICLE AND TRAFFIC LAWS'), 59140),\n",
       " (('348', ''), 2),\n",
       " (('347', ''), 3),\n",
       " (('347', 'INTOXICATED & IMPAIRED DRIVING'), 73730),\n",
       " (('346', 'ALCOHOLIC BEVERAGE CONTROL LAW'), 750),\n",
       " (('345', 'ENDAN WELFARE INCOMP'), 122),\n",
       " (('345', 'OFFENSES RELATED TO CHILDREN'), 1346),\n",
       " (('344', ''), 73),\n",
       " (('344', 'ASSAULT 3 & RELATED OFFENSES'), 521538),\n",
       " (('343', ''), 2),\n",
       " (('343', 'OTHER OFFENSES RELATED TO THEF'), 9731),\n",
       " (('343', 'THEFT OF SERVICES'), 2778),\n",
       " (('342', 'PETIT LARCENY OF MOTOR VEHICLE'), 908),\n",
       " (('341', ''), 10),\n",
       " (('341', 'PETIT LARCENY'), 822498),\n",
       " (('340', 'FRAUDS'), 32054),\n",
       " (('340', ''), 3),\n",
       " (('238', 'FRAUDULENT ACCOSTING'), 2645),\n",
       " (('237', 'ESCAPE 3'), 167),\n",
       " (('237', ''), 1),\n",
       " (('236', 'DANGEROUS WEAPONS'), 73672),\n",
       " (('236', ''), 8),\n",
       " (('235', 'DANGEROUS DRUGS'), 285790),\n",
       " (('235', ''), 11),\n",
       " (('234', 'PROSTITUTION & RELATED OFFENSES'), 111),\n",
       " (('233', ''), 13),\n",
       " (('233', 'SEX CRIMES'), 44117),\n",
       " (('232', ''), 1),\n",
       " (('232', 'POSSESSION OF STOLEN PROPERTY'), 20376),\n",
       " (('231', \"BURGLAR'S TOOLS\"), 2477),\n",
       " (('230', ''), 1),\n",
       " (('230', 'JOSTLING'), 299),\n",
       " (('126', 'MISCELLANEOUS PENAL LAW'), 110468),\n",
       " (('126', ''), 1798),\n",
       " (('125', ''), 1),\n",
       " (('125', 'NYS LAWS-UNCLASSIFIED FELONY'), 3755),\n",
       " (('124', 'KIDNAPPING & RELATED OFFENSES'), 2300),\n",
       " (('124', ''), 1),\n",
       " (('124', 'KIDNAPPING AND RELATED OFFENSES'), 2),\n",
       " (('124', 'KIDNAPPING'), 2),\n",
       " (('123', 'ABORTION'), 4),\n",
       " (('122', 'GAMBLING'), 122),\n",
       " (('121', ''), 5),\n",
       " (('121', 'CRIMINAL MISCHIEF & RELATED OF'), 72416),\n",
       " (('120', 'ENDAN WELFARE INCOMP'), 22),\n",
       " (('120', 'CHILD ABANDONMENT/NON SUPPORT'), 367),\n",
       " (('119', 'INTOXICATED/IMPAIRED DRIVING'), 48),\n",
       " (('118', 'DANGEROUS WEAPONS'), 50563),\n",
       " (('117', 'DANGEROUS DRUGS'), 62679),\n",
       " (('117', ''), 4),\n",
       " (('116', 'SEX CRIMES'), 10853),\n",
       " (('116', ''), 2),\n",
       " (('115', 'PROSTITUTION & RELATED OFFENSES'), 122),\n",
       " (('114', 'ARSON'), 13984),\n",
       " (('113', ''), 1),\n",
       " (('113', 'FORGERY'), 49303),\n",
       " (('112', ''), 6),\n",
       " (('112', 'THEFT-FRAUD'), 56762),\n",
       " (('111', 'POSSESSION OF STOLEN PROPERTY'), 9112),\n",
       " (('111', ''), 1),\n",
       " (('110', 'GRAND LARCENY OF MOTOR VEHICLE'), 102061),\n",
       " (('109', 'GRAND LARCENY'), 429196),\n",
       " (('109', ''), 9),\n",
       " (('107', ''), 1),\n",
       " (('107', 'BURGLARY'), 191406),\n",
       " (('106', ''), 55),\n",
       " (('106', 'FELONY ASSAULT'), 184069),\n",
       " (('105', 'ROBBERY'), 198772),\n",
       " (('105', ''), 2),\n",
       " (('104', 'RAPE'), 13791),\n",
       " (('103', 'HOMICIDE-NEGLIGENT,UNCLASSIFIE'), 33),\n",
       " (('102', 'HOMICIDE-NEGLIGENT-VEHICLE'), 93),\n",
       " (('101', 'MURDER & NON-NEGL. MANSLAUGHTER'), 4574)]"
      ]
     },
     "execution_count": 5,
     "metadata": {},
     "output_type": "execute_result"
    }
   ],
   "source": [
    "offense_classification = crimedata.mapPartitions(lambda x: reader(x)).map(lambda x: ((x[6],x[7]),1))\n",
    "sorted(offense_classification.reduceByKey(add).collect(),key=lambda x:x[0][0],reverse=True)"
   ]
  },
  {
   "cell_type": "code",
   "execution_count": 6,
   "metadata": {
    "collapsed": false,
    "scrolled": false
   },
   "outputs": [
    {
     "data": {
      "text/plain": [
       "[(('348', 'VEHICLE AND TRAFFIC LAWS'), 59140),\n",
       " (('455', 'UNLAWFUL POSS. WEAP. ON SCHOOL'), 59),\n",
       " (('577', 'UNDER THE INFLUENCE OF DRUGS'), 3),\n",
       " (('353', 'UNAUTHORIZED USE OF A VEHICLE'), 13826),\n",
       " (('112', 'THEFT-FRAUD'), 56762),\n",
       " (('343', 'THEFT OF SERVICES'), 2778),\n",
       " (('116', 'SEX CRIMES'), 10853),\n",
       " (('233', 'SEX CRIMES'), 44117),\n",
       " (('105', 'ROBBERY'), 198772),\n",
       " (('104', 'RAPE'), 13791),\n",
       " (('356', 'PROSTITUTION & RELATED OFFENSES'), 609),\n",
       " (('115', 'PROSTITUTION & RELATED OFFENSES'), 122),\n",
       " (('234', 'PROSTITUTION & RELATED OFFENSES'), 111),\n",
       " (('111', 'POSSESSION OF STOLEN PROPERTY'), 9112),\n",
       " (('232', 'POSSESSION OF STOLEN PROPERTY'), 20376),\n",
       " (('342', 'PETIT LARCENY OF MOTOR VEHICLE'), 908),\n",
       " (('341', 'PETIT LARCENY'), 822498),\n",
       " (('881', 'OTHER TRAFFIC INFRACTION'), 13),\n",
       " (('364', 'OTHER STATE LAWS (NON PENAL LAW)'), 4),\n",
       " (('364', 'OTHER STATE LAWS (NON PENAL LA'), 5505),\n",
       " (('677', 'OTHER STATE LAWS'), 233),\n",
       " (('343', 'OTHER OFFENSES RELATED TO THEF'), 9731),\n",
       " (('KY_CD', 'OFNS_DESC'), 1),\n",
       " (('345', 'OFFENSES RELATED TO CHILDREN'), 1346),\n",
       " (('358', 'OFFENSES INVOLVING FRAUD'), 17737),\n",
       " (('355', 'OFFENSES AGAINST THE PERSON'), 12339),\n",
       " (('363', 'OFFENSES AGAINST PUBLIC SAFETY'), 810),\n",
       " (('359', 'OFFENSES AGAINST PUBLIC ADMINI'), 100118),\n",
       " (('362', 'OFFENSES AGAINST MARRIAGE UNCL'), 3),\n",
       " (('361', 'OFF. AGNST PUB ORD SENSBLTY &'), 283065),\n",
       " (('677', 'NYS LAWS-UNCLASSIFIED VIOLATION'), 6),\n",
       " (('125', 'NYS LAWS-UNCLASSIFIED FELONY'), 3755),\n",
       " (('676', 'NEW YORK CITY HEALTH CODE'), 31),\n",
       " (('366', 'NEW YORK CITY HEALTH CODE'), 44),\n",
       " (('101', 'MURDER & NON-NEGL. MANSLAUGHTER'), 4574),\n",
       " (('126', 'MISCELLANEOUS PENAL LAW'), 110468),\n",
       " (('678', 'MISCELLANEOUS PENAL LAW'), 8253),\n",
       " (('571', 'LOITERING/GAMBLING (CARDS, DIC'), 207),\n",
       " (('460', 'LOITERING/DEVIATE SEX'), 16),\n",
       " (('360', 'LOITERING FOR DRUG PURPOSES'), 23),\n",
       " (('672', 'LOITERING'), 20),\n",
       " (('124', 'KIDNAPPING AND RELATED OFFENSES'), 2),\n",
       " (('124', 'KIDNAPPING & RELATED OFFENSES'), 2300),\n",
       " (('124', 'KIDNAPPING'), 2),\n",
       " (('230', 'JOSTLING'), 299),\n",
       " (('119', 'INTOXICATED/IMPAIRED DRIVING'), 48),\n",
       " (('347', 'INTOXICATED & IMPAIRED DRIVING'), 73730),\n",
       " (('102', 'HOMICIDE-NEGLIGENT-VEHICLE'), 93),\n",
       " (('103', 'HOMICIDE-NEGLIGENT,UNCLASSIFIE'), 33),\n",
       " (('578', 'HARRASSMENT 2'), 604070),\n",
       " (('110', 'GRAND LARCENY OF MOTOR VEHICLE'), 102061),\n",
       " (('109', 'GRAND LARCENY'), 429196),\n",
       " (('350', 'GAMBLING'), 1901),\n",
       " (('122', 'GAMBLING'), 122),\n",
       " (('238', 'FRAUDULENT ACCOSTING'), 2645),\n",
       " (('340', 'FRAUDS'), 32054),\n",
       " (('357', 'FORTUNE TELLING'), 11),\n",
       " (('113', 'FORGERY'), 49303),\n",
       " (('106', 'FELONY ASSAULT'), 184069),\n",
       " (('237', 'ESCAPE 3'), 167),\n",
       " (('345', 'ENDAN WELFARE INCOMP'), 122),\n",
       " (('120', 'ENDAN WELFARE INCOMP'), 22),\n",
       " (('349', 'DISRUPTION OF A RELIGIOUS SERV'), 47),\n",
       " (('572', 'DISORDERLY CONDUCT'), 829),\n",
       " (('118', 'DANGEROUS WEAPONS'), 50563),\n",
       " (('236', 'DANGEROUS WEAPONS'), 73672),\n",
       " (('235', 'DANGEROUS DRUGS'), 285790),\n",
       " (('117', 'DANGEROUS DRUGS'), 62679),\n",
       " (('352', 'CRIMINAL TRESPASS'), 66544),\n",
       " (('121', 'CRIMINAL MISCHIEF & RELATED OF'), 72416),\n",
       " (('351', 'CRIMINAL MISCHIEF & RELATED OF'), 433358),\n",
       " (('120', 'CHILD ABANDONMENT/NON SUPPORT'), 367),\n",
       " (('107', 'BURGLARY'), 191406),\n",
       " (('231', \"BURGLAR'S TOOLS\"), 2477),\n",
       " (('344', 'ASSAULT 3 & RELATED OFFENSES'), 521538),\n",
       " (('114', 'ARSON'), 13984),\n",
       " (('354', 'ANTICIPATORY OFFENSES'), 95),\n",
       " (('346', 'ALCOHOLIC BEVERAGE CONTROL LAW'), 750),\n",
       " (('364', 'AGRICULTURE & MRKTS LAW-UNCLASSIFIED'), 83),\n",
       " (('685', 'ADMINISTRATIVE CODES'), 18),\n",
       " (('675', 'ADMINISTRATIVE CODE'), 1446),\n",
       " (('365', 'ADMINISTRATIVE CODE'), 9937),\n",
       " (('123', 'ABORTION'), 4),\n",
       " (('678', ''), 223),\n",
       " (('359', ''), 16),\n",
       " (('230', ''), 1),\n",
       " (('106', ''), 55),\n",
       " (('126', ''), 1798),\n",
       " (('125', ''), 1),\n",
       " (('352', ''), 5),\n",
       " (('365', ''), 2),\n",
       " (('112', ''), 6),\n",
       " (('232', ''), 1),\n",
       " (('121', ''), 5),\n",
       " (('364', ''), 402),\n",
       " (('116', ''), 2),\n",
       " (('355', ''), 2),\n",
       " (('344', ''), 73),\n",
       " (('347', ''), 3),\n",
       " (('235', ''), 11),\n",
       " (('343', ''), 2),\n",
       " (('113', ''), 1),\n",
       " (('351', ''), 10),\n",
       " (('356', ''), 9),\n",
       " (('358', ''), 2),\n",
       " (('107', ''), 1),\n",
       " (('124', ''), 1),\n",
       " (('105', ''), 2),\n",
       " (('340', ''), 3),\n",
       " (('341', ''), 10),\n",
       " (('348', ''), 2),\n",
       " (('233', ''), 13),\n",
       " (('111', ''), 1),\n",
       " (('350', ''), 1),\n",
       " (('578', ''), 71),\n",
       " (('237', ''), 1),\n",
       " (('236', ''), 8),\n",
       " (('675', ''), 4),\n",
       " (('366', ''), 1),\n",
       " (('117', ''), 4),\n",
       " (('361', ''), 37),\n",
       " (('109', ''), 9),\n",
       " (('360', ''), 16041)]"
      ]
     },
     "execution_count": 6,
     "metadata": {},
     "output_type": "execute_result"
    }
   ],
   "source": [
    "offense_classification = crimedata.mapPartitions(lambda x: reader(x)).map(lambda x: ((x[6],x[7]),1))\n",
    "sorted(offense_classification.reduceByKey(add).collect(),key=lambda x:x[0][1],reverse=True)"
   ]
  },
  {
   "cell_type": "code",
   "execution_count": 19,
   "metadata": {
    "collapsed": true
   },
   "outputs": [],
   "source": [
    "def CMPLNT_FR_DT_label(time):\n",
    "\tvalidity = None \n",
    "\tbase_type = 'DATETIME'\n",
    "\tsemantic_type = 'Date of Occurrence'\n",
    "\n",
    "\tyear = time[-4:]\n",
    "\tif year.isdigit():\n",
    "\t\tyear = int(year)\n",
    "\telse:\n",
    "\t\tpass\n",
    "\n",
    "\tif time != \"\" and year in range(1900,2018):\n",
    "\t\t\n",
    "\t\tvalidity = \"Valid\"\n",
    "\t\treturn (base_type,semantic_type,validity)\n",
    "\telse:\n",
    "\t\tvalidity = \"Null\"\n",
    "\t\tbase_type = \"Null\"\n",
    "\t\tsemantic_type = \"Null\"\n",
    "\t\treturn (base_type,semantic_type,validity)"
   ]
  },
  {
   "cell_type": "code",
   "execution_count": 20,
   "metadata": {
    "collapsed": false,
    "scrolled": false
   },
   "outputs": [],
   "source": [
    "#header = crimedata.first() #header\n",
    "#CMPLNT_FR_DT=crimedata.filter(lambda line: line != header)\n",
    "CMPLNT_FR_DT = crimedata.mapPartitions(lambda x: reader(x)).map(lambda x: (x[1],CMPLNT_FR_DT_label(x[1])))\n",
    "CMPLNT_FR_DT.saveAsTextFile(\"output.out\") "
   ]
  },
  {
   "cell_type": "code",
   "execution_count": 9,
   "metadata": {
    "collapsed": false
   },
   "outputs": [],
   "source": [
    "def CMPLNT_FR_TM_label(time):\n",
    "\tvalidity = None \n",
    "\tbase_type = 'DATETIME'\n",
    "\tsemantic_type = 'Time of occurrence'\n",
    "\thour = time[:2] \n",
    "\n",
    "\tif hour.isdigit():\n",
    "\t\thour = int(hour)\n",
    "\telse:\n",
    "\t\tpass\n",
    "\tif time != \"\":\n",
    "\t\t\n",
    "\t\tvalidity = \"Valid\"\n",
    "\t\treturn (base_type,semantic_type,validity)\n",
    "\telse:\n",
    "\t\tvalidity = \"Null\"\n",
    "\t\tbase_type = \"Null\"\n",
    "\t\tsemantic_type = \"Null\"\n",
    "\t\treturn (base_type,semantic_type,validity)"
   ]
  },
  {
   "cell_type": "code",
   "execution_count": 10,
   "metadata": {
    "collapsed": false,
    "scrolled": false
   },
   "outputs": [],
   "source": [
    "CMPLNT_FR_TM = crimedata.mapPartitions(lambda x: reader(x)).map(lambda x: (x[2],CMPLNT_FR_TM_label(x[2])))\n",
    "CMPLNT_FR_TM.saveAsTextFile(\"output.out\") "
   ]
  },
  {
   "cell_type": "code",
   "execution_count": 29,
   "metadata": {
    "collapsed": false
   },
   "outputs": [],
   "source": [
    "def CMPLNT_TO_DT_label(time):\n",
    "\tvalidity = None \n",
    "\tbase_type = 'DATETIME'\n",
    "\tsemantic_type = 'Ending Date of Occurrence'\n",
    "\n",
    "\tyear = time[-4:]\n",
    "\tif year.isdigit():\n",
    "\t\tyear = int(year)\n",
    "\telse:\n",
    "\t\tpass\n",
    "\n",
    "\tif time != \"\" and year in range(1900,2018):\n",
    "\t\tvalidity = \"Valid\"\n",
    "\t\treturn (base_type,semantic_type,validity)\n",
    "\telif time == \"\":\n",
    "\t\tvalidity = \"Null\"\n",
    "\t\tbase_type = \"Null\"\n",
    "\t\tsemantic_type = \"Null\"\n",
    "\t\treturn (base_type,semantic_type,validity) \n",
    "\telse:\n",
    "\t\tvalidity = \"Invalid\"\n",
    "\t\tbase_type = \"Null\"\n",
    "\t\tsemantic_type = \"Null\"\n",
    "\t\treturn (base_type,semantic_type,validity)"
   ]
  },
  {
   "cell_type": "code",
   "execution_count": 30,
   "metadata": {
    "collapsed": false,
    "scrolled": false
   },
   "outputs": [],
   "source": [
    "CMPLNT_TO_DT = crimedata.mapPartitions(lambda x: reader(x)).map(lambda x: (x[3],CMPLNT_TO_DT_label(x[3])))\n",
    "CMPLNT_TO_DT.saveAsTextFile(\"output.out\")"
   ]
  },
  {
   "cell_type": "code",
   "execution_count": 34,
   "metadata": {
    "collapsed": true
   },
   "outputs": [],
   "source": [
    "def CMPLNT_TO_TM_label(time):\n",
    "\tvalidity = None \n",
    "\tbase_type = 'DATETIME'\n",
    "\tsemantic_type = 'Ending Time of Occurrence'\n",
    "\thour = time[:2] \n",
    "\t\n",
    "\tif hour.isdigit():\n",
    "\t\thour = int(hour)\n",
    "\telse:\n",
    "\t\tpass\n",
    "\tif time != \"\" and hour in range(0,25):\n",
    "\t\t\n",
    "\t\tvalidity = \"Valid\"\n",
    "\t\treturn (base_type,semantic_type,validity)\n",
    "\n",
    "\telif time == \"\":\n",
    "\t\tvalidity = \"Null\"\n",
    "\t\tbase_type = \"Null\"\n",
    "\t\tsemantic_type = \"Null\" \n",
    "\t\treturn (base_type,semantic_type,validity)\n",
    "\telse:\n",
    "\t\tvalidity = \"Invalid\"\n",
    "\t\tbase_type = \"Null\"\n",
    "\t\tsemantic_type = \"Null\"\n",
    "\t\treturn (base_type,semantic_type,validity)"
   ]
  },
  {
   "cell_type": "code",
   "execution_count": 36,
   "metadata": {
    "collapsed": false,
    "scrolled": false
   },
   "outputs": [],
   "source": [
    "CMPLNT_TO_TM = crimedata.mapPartitions(lambda x: reader(x)).map(lambda x: (x[4],CMPLNT_TO_TM_label(x[4])))\n",
    "CMPLNT_TO_TM.saveAsTextFile(\"output.out\") "
   ]
  },
  {
   "cell_type": "code",
   "execution_count": 43,
   "metadata": {
    "collapsed": true
   },
   "outputs": [],
   "source": [
    "def RPT_DT_label(time):\n",
    "\tvalidity = None \n",
    "\tbase_type = 'DATETIME'\n",
    "\tsemantic_type = 'Date event was reported to police '\n",
    "\n",
    "\tif time == \"\":\n",
    "\t\tvalidity = \"Null\"\n",
    "\t\tbase_type = \"Null\"\n",
    "\t\tsemantic_type = \"Null\"\n",
    "\t\treturn (base_type,semantic_type,validity)\n",
    "\telif re.match(\"(\\d{2})[/](\\d{2})[/](\\d{4})$\",time) != None:\n",
    "\t\tmonth  = int(time.split('/')[0])\n",
    "\t\tdate   = int(time.split('/')[1])\n",
    "\t\tyear   = int(time.split('/')[2])\n",
    "\n",
    "\t\tif month in range(1,13) and date in range(1,32) and year in range(1900,2018):\n",
    "\t\t\tvalidity = \"Valid\"\n",
    "\t\t\treturn (base_type,semantic_type,validity)\n",
    "\t\telse:\n",
    "\t\t\tvalidity = \"Invalid\"\n",
    "\t\t\treturn (base_type,semantic_type,validity)\n",
    "\telse:\n",
    "\t\tvalidity = \"Invalid\"\n",
    "\t\treturn (base_type,semantic_type,validity)"
   ]
  },
  {
   "cell_type": "code",
   "execution_count": 44,
   "metadata": {
    "collapsed": false
   },
   "outputs": [],
   "source": [
    "header = crimedata.first() #header\n",
    "RPT_DT=crimedata.filter(lambda line: line != header)\n",
    "RPT_DT = RPT_DT.mapPartitions(lambda x: reader(x)).map(lambda x: (x[5],RPT_DT_label(x[5])))\n",
    "RPT_DT.saveAsTextFile(\"output.out\")"
   ]
  },
  {
   "cell_type": "code",
   "execution_count": null,
   "metadata": {
    "collapsed": true
   },
   "outputs": [],
   "source": []
  },
  {
   "cell_type": "code",
   "execution_count": 46,
   "metadata": {
    "collapsed": false
   },
   "outputs": [
    {
     "data": {
      "text/plain": [
       "[('362', 3),\n",
       " ('349', 47),\n",
       " ('104', 13791),\n",
       " ('109', 429205),\n",
       " ('114', 13984),\n",
       " ('572', 829),\n",
       " ('571', 207),\n",
       " ('357', 11),\n",
       " ('343', 12511),\n",
       " ('101', 4574),\n",
       " ('238', 2645),\n",
       " ('237', 168),\n",
       " ('110', 102061),\n",
       " ('354', 95),\n",
       " ('675', 1450),\n",
       " ('119', 48),\n",
       " ('678', 8476),\n",
       " ('352', 66549),\n",
       " ('231', 2477),\n",
       " ('355', 12341),\n",
       " ('115', 122),\n",
       " ('102', 93),\n",
       " ('364', 5994),\n",
       " ('103', 33),\n",
       " ('676', 31),\n",
       " ('577', 3),\n",
       " ('347', 73733),\n",
       " ('363', 810),\n",
       " ('230', 300),\n",
       " ('107', 191407),\n",
       " ('122', 122),\n",
       " ('235', 285801),\n",
       " ('685', 18),\n",
       " ('106', 184124),\n",
       " ('233', 44130),\n",
       " ('112', 56768),\n",
       " ('672', 20),\n",
       " ('345', 1468),\n",
       " ('126', 112266),\n",
       " ('348', 59142),\n",
       " ('359', 100134),\n",
       " ('455', 59),\n",
       " ('236', 73680),\n",
       " ('342', 908),\n",
       " ('111', 9113),\n",
       " ('341', 822508),\n",
       " ('460', 16),\n",
       " ('353', 13826),\n",
       " ('124', 2305),\n",
       " ('118', 50563),\n",
       " ('356', 618),\n",
       " ('358', 17739),\n",
       " ('578', 604141),\n",
       " ('120', 389),\n",
       " ('113', 49304),\n",
       " ('346', 750),\n",
       " ('105', 198774),\n",
       " ('125', 3756),\n",
       " ('365', 9939),\n",
       " ('340', 32057),\n",
       " ('361', 283102),\n",
       " ('121', 72421),\n",
       " ('116', 10855),\n",
       " ('344', 521611),\n",
       " ('351', 433368),\n",
       " ('360', 16064),\n",
       " ('117', 62683),\n",
       " ('350', 1902),\n",
       " ('234', 111),\n",
       " ('881', 13),\n",
       " ('123', 4),\n",
       " ('677', 239),\n",
       " ('232', 20377),\n",
       " ('366', 45),\n",
       " ('KY_CD', 1)]"
      ]
     },
     "execution_count": 46,
     "metadata": {},
     "output_type": "execute_result"
    }
   ],
   "source": [
    "crimedata.mapPartitions(lambda x: reader(x)).map(lambda x: (x[6],1)).reduceByKey(add).collect()\n"
   ]
  },
  {
   "cell_type": "code",
   "execution_count": 49,
   "metadata": {
    "collapsed": true
   },
   "outputs": [],
   "source": [
    "def KY_CD_Label(code):\n",
    "\tvalidity = None \n",
    "\tbase_type = 'INT'\n",
    "\tsemantic_type = 'Offense Classification Code'\n",
    "\n",
    "\tif code == \"\" or len(code) == 0:\n",
    "\t\tvalidity = 'Null'\n",
    "\t\tbase_type = 'Null'\n",
    "\t\tsemantic_type = 'Null'\n",
    "\t\treturn (base_type,semantic_type,validity)\n",
    "\n",
    "\telif len(code) > 3:\n",
    "\t\tvalidity = 'Invalid'\n",
    "\t\tbase_type = 'INT'\n",
    "\t\tsemantic_type = 'Offense Classification Code'\n",
    "\t\treturn (base_type,semantic_type,validity)\n",
    "\n",
    "\telse:\n",
    "\t\tvalidity = \"Valid\"\n",
    "\t\treturn (base_type,semantic_type,validity)"
   ]
  },
  {
   "cell_type": "code",
   "execution_count": 51,
   "metadata": {
    "collapsed": false,
    "scrolled": false
   },
   "outputs": [],
   "source": [
    "header = crimedata.first() #header\n",
    "KY_CD=crimedata.filter(lambda line: line != header)\n",
    "KY_CD = KY_CD.mapPartitions(lambda x: reader(x)).map(lambda x: (x[6],KY_CD_Label(x[6])))\n",
    "KY_CD.saveAsTextFile(\"output.out\")"
   ]
  },
  {
   "cell_type": "code",
   "execution_count": 3,
   "metadata": {
    "collapsed": true
   },
   "outputs": [],
   "source": [
    "def OFNS_DESC_label(text):\n",
    "\tvalidity = None \n",
    "\tbase_type = 'TEXT'\n",
    "\tsemantic_type = 'Description of Offense'\n",
    "\n",
    "\tif len(text) == 0 or text == \"\":\n",
    "\t\tvalidity = 'Null' \n",
    "\t\tbase_type = 'Null'\n",
    "\t\tsemantic_type = 'Null'\n",
    "\t\treturn (base_type,semantic_type,validity)\n",
    "\n",
    "\telse:\n",
    "\t\tvalidity = 'Valid' \n",
    "\t\tbase_type = 'TEXT'\n",
    "\t\tsemantic_type = 'Description of Offense'\n",
    "\t\treturn (base_type,semantic_type,validity)"
   ]
  },
  {
   "cell_type": "code",
   "execution_count": 4,
   "metadata": {
    "collapsed": true
   },
   "outputs": [],
   "source": [
    "header = crimedata.first() #header\n",
    "OFNS_DESC=crimedata.filter(lambda line: line != header)\n",
    "OFNS_DESC = OFNS_DESC.mapPartitions(lambda x: reader(x)).map(lambda x: (x[7],OFNS_DESC_label(x[7])))\n",
    "OFNS_DESC.saveAsTextFile(\"output.out\")"
   ]
  },
  {
   "cell_type": "code",
   "execution_count": 10,
   "metadata": {
    "collapsed": true
   },
   "outputs": [],
   "source": [
    "def PD_CD_Label(code):\n",
    "\tvalidity = None \n",
    "\tbase_type = 'INT'\n",
    "\tsemantic_type = 'Internal Classification Code'\n",
    "\n",
    "\tif code == \"\":\n",
    "\t\tvalidity = 'Null'\n",
    "\t\tbase_type = 'Null'\n",
    "\t\tsemantic_type = 'Null'\n",
    "\t\treturn (base_type,semantic_type,validity)\n",
    "\n",
    "\telse:\n",
    "\t\tcode = int(code)\n",
    "\t\tif code not in range(1000):\n",
    "\t\t\tvalidity = 'Invalid'\n",
    "\t\t\tbase_type = 'INT'\n",
    "\t\t\tsemantic_type = 'Offense Classification Code'\n",
    "\t\t\treturn (base_type,semantic_type,validity)\n",
    "\t\telse:\n",
    "\t\t\tvalidity = 'Valid'\n",
    "\t\t\treturn (base_type,semantic_type,validity)"
   ]
  },
  {
   "cell_type": "code",
   "execution_count": 11,
   "metadata": {
    "collapsed": false,
    "scrolled": false
   },
   "outputs": [],
   "source": [
    "header = crimedata.first() #header\n",
    "PD_CD=crimedata.filter(lambda line: line != header)\n",
    "PD_CD = PD_CD.mapPartitions(lambda x: reader(x)).map(lambda x: (x[8],PD_CD_Label(x[8])))\n",
    "PD_CD.saveAsTextFile(\"output.out\")"
   ]
  },
  {
   "cell_type": "code",
   "execution_count": 14,
   "metadata": {
    "collapsed": true
   },
   "outputs": [],
   "source": [
    "def PD_DESC_label(text):\n",
    "\tvalidity = None \n",
    "\tbase_type = 'TEXT'\n",
    "\tsemantic_type = 'Description of Internal Classification'\n",
    "\n",
    "\tif len(text) == 0 or text == \"\":\n",
    "\t\tvalidity = 'Null' \n",
    "\t\tbase_type = 'Null'\n",
    "\t\tsemantic_type = 'Null'\n",
    "\t\treturn (base_type,semantic_type,validity)\n",
    "\n",
    "\telse:\n",
    "\t\tvalidity = 'Valid' \n",
    "\t\tbase_type = 'TEXT'\n",
    "\t\tsemantic_type = 'Description of Offense'\n",
    "\t\treturn (base_type,semantic_type,validity)"
   ]
  },
  {
   "cell_type": "code",
   "execution_count": 15,
   "metadata": {
    "collapsed": true
   },
   "outputs": [],
   "source": [
    "header = crimedata.first() #header\n",
    "PD_DESC = crimedata.filter(lambda line: line != header)\n",
    "PD_DESC = PD_DESC.mapPartitions(lambda x: reader(x)).map(lambda x: (x[9],PD_DESC_label(x[9])))\n",
    "PD_DESC.saveAsTextFile(\"output.out\")"
   ]
  },
  {
   "cell_type": "code",
   "execution_count": 16,
   "metadata": {
    "collapsed": true
   },
   "outputs": [],
   "source": [
    "def CRM_ATPT_CPTD_CD_label(indicator):\n",
    "\tvalidity = None \n",
    "\tbase_type = 'TEXT'\n",
    "\tsemantic_type = 'Indicator of completeness' \n",
    "\n",
    "\tindicator_type = ['COMPLETED','ATTEMPTED']\n",
    "\n",
    "\tif indicator == \"\" or len(indicator) == 0:\n",
    "\t\tvalidity = 'Null' \n",
    "\t\tbase_type = 'Null'\n",
    "\t\tsemantic_type = 'Null'\n",
    "\t\treturn (base_type,semantic_type,validity)\n",
    "\n",
    "\telif indicator in indicator_type:\n",
    "\t\tvalidity = 'Valid'\n",
    "\t\treturn (base_type,semantic_type,validity)\n",
    "\n",
    "\telse:\n",
    "\t\tvalidity = 'Invalid'\n",
    "\t\treturn (base_type,semantic_type,validity)"
   ]
  },
  {
   "cell_type": "code",
   "execution_count": 17,
   "metadata": {
    "collapsed": true
   },
   "outputs": [],
   "source": [
    "header = crimedata.first() #header\n",
    "CRM_ATPT_CPTD_CD = crimedata.filter(lambda line: line != header)\n",
    "CRM_ATPT_CPTD_CD = CRM_ATPT_CPTD_CD.mapPartitions(lambda x: reader(x)).map(lambda x: (x[10],CRM_ATPT_CPTD_CD_label(x[10])))\n",
    "CRM_ATPT_CPTD_CD.saveAsTextFile(\"output.out\")"
   ]
  },
  {
   "cell_type": "code",
   "execution_count": 18,
   "metadata": {
    "collapsed": true
   },
   "outputs": [],
   "source": [
    "def LAW_CAT_CD_label(level):\n",
    "\tvalidity = None \n",
    "\tbase_type = 'TEXT'\n",
    "\tsemantic_type = 'Level of Offense' \n",
    "\tlevel_of_offense = ['FELONY', 'MISDEMEANOR', 'VIOLATION']\n",
    "\n",
    "\tif level == \"\" or len(level) == 0:\n",
    "\t\tvalidity = 'Null' \n",
    "\t\tbase_type = 'Null'\n",
    "\t\tsemantic_type = 'Null'\n",
    "\t\treturn (base_type,semantic_type,validity)\n",
    "\telif level not in level_of_offense:\n",
    "\t\tvalidity = 'Invalid'\n",
    "\t\treturn (base_type,semantic_type,validity)\n",
    "\telse:\n",
    "\t\tvalidity = 'Valid'\n",
    "\t\treturn (base_type,semantic_type,validity)"
   ]
  },
  {
   "cell_type": "code",
   "execution_count": 19,
   "metadata": {
    "collapsed": true
   },
   "outputs": [],
   "source": [
    "header = crimedata.first() #header\n",
    "LAW_CAT_CD = crimedata.filter(lambda line: line != header)\n",
    "LAW_CAT_CD = LAW_CAT_CD.mapPartitions(lambda x: reader(x)).map(lambda x: (x[11],LAW_CAT_CD_label(x[11])))\n",
    "LAW_CAT_CD.saveAsTextFile(\"output.out\")"
   ]
  },
  {
   "cell_type": "code",
   "execution_count": 47,
   "metadata": {
    "collapsed": false
   },
   "outputs": [],
   "source": [
    "def BORO_NM_label(borough,precinct):\n",
    "\t\n",
    "\tboro_precinct = {'BRONX':list(range(40,51))+[52], 'QUEENS':list(range(100,116)), \\\n",
    "\t'MANHATTAN':[1,5,6,7,9,10,13,17,18,19,20,22,23,24,25,26,28,30,32,33,34],\\\n",
    "\t'BROOKLYN':[60,61,62,63,66,67,68,69,70,71,72,73,75,76,77,78,79,81,83,84,88,90,94],\\\n",
    "\t'STATEN ISLAND':list(range(120,124))}\n",
    "\n",
    "\tvalidity = None \n",
    "\tbase_type = 'TEXT'\n",
    "\tsemantic_type = 'Borough Where Incident Occurred'\n",
    "\tif precinct != \"\":\n",
    "\t\tprecinct = int(precinct) \n",
    "\n",
    "\tif borough == \"\" or len(borough) == 0:\n",
    "\t\tvalidity = 'Null' \n",
    "\t\tbase_type = 'Null'\n",
    "\t\tsemantic_type = 'Null'\n",
    "\t\treturn (base_type,semantic_type,validity)\n",
    "\n",
    "\telif precinct not in boro_precinct[borough]:\n",
    "\t\tvalidity = 'Invalid'\n",
    "\t\treturn (base_type,semantic_type,validity)\n",
    "\telse:\n",
    "\t\tvalidity = 'Valid'\n",
    "\t\treturn (base_type,semantic_type,validity)"
   ]
  },
  {
   "cell_type": "code",
   "execution_count": 48,
   "metadata": {
    "collapsed": true
   },
   "outputs": [],
   "source": [
    "header = crimedata.first() #header\n",
    "BORO_NM = crimedata.filter(lambda line: line != header)\n",
    "BORO_NM = BORO_NM.mapPartitions(lambda x: reader(x)).map(lambda x: (x[13],BORO_NM_label(x[13],x[14])))\n",
    "BORO_NM.saveAsTextFile(\"output.out\")"
   ]
  },
  {
   "cell_type": "code",
   "execution_count": null,
   "metadata": {
    "collapsed": true
   },
   "outputs": [],
   "source": []
  }
 ],
 "metadata": {
  "anaconda-cloud": {},
  "kernelspec": {
   "display_name": "Python [Root]",
   "language": "python",
   "name": "Python [Root]"
  },
  "language_info": {
   "codemirror_mode": {
    "name": "ipython",
    "version": 3
   },
   "file_extension": ".py",
   "mimetype": "text/x-python",
   "name": "python",
   "nbconvert_exporter": "python",
   "pygments_lexer": "ipython3",
   "version": "3.5.2"
  }
 },
 "nbformat": 4,
 "nbformat_minor": 0
}
